{
  "nbformat": 4,
  "nbformat_minor": 0,
  "metadata": {
    "colab": {
      "provenance": [],
      "authorship_tag": "ABX9TyOp1awi+MtljKDvinfgjtuM",
      "include_colab_link": true
    },
    "kernelspec": {
      "name": "python3",
      "display_name": "Python 3"
    },
    "language_info": {
      "name": "python"
    }
  },
  "cells": [
    {
      "cell_type": "markdown",
      "metadata": {
        "id": "view-in-github",
        "colab_type": "text"
      },
      "source": [
        "<a href=\"https://colab.research.google.com/github/Velangel/Practica_Ordenamiento/blob/main/practica.ipynb\" target=\"_parent\"><img src=\"https://colab.research.google.com/assets/colab-badge.svg\" alt=\"Open In Colab\"/></a>"
      ]
    },
    {
      "cell_type": "code",
      "execution_count": null,
      "metadata": {
        "id": "OW5QS6HDAHCA"
      },
      "outputs": [],
      "source": [
        "from google.colab import drive\n",
        "import os\n",
        "\n",
        "# Montar Google Drive\n",
        "drive.mount('/content/drive')\n",
        "\n",
        "# Definir el directorio (cambia 'tu_directorio' por el nombre de tu carpeta)\n",
        "directory = '/content/drive/MyDrive/Colab Notebooks'\n",
        "\n",
        "# Listar archivos en el directorio\n",
        "def list_files_in_directory(directory):\n",
        "    try:\n",
        "        files = os.listdir(directory)\n",
        "        print(\"Archivos en el directorio:\")\n",
        "        for file in files:\n",
        "            print(file)\n",
        "    except FileNotFoundError:\n",
        "        print(\"Directorio no encontrado.\")\n",
        "\n",
        "# Llamar a la función\n",
        "list_files_in_directory(directory)\n"
      ]
    }
  ]
}